{
  "nbformat": 4,
  "nbformat_minor": 0,
  "metadata": {
    "colab": {
      "provenance": [],
      "gpuType": "T4"
    },
    "kernelspec": {
      "name": "python3",
      "display_name": "Python 3"
    },
    "language_info": {
      "name": "python"
    },
    "accelerator": "GPU"
  },
  "cells": [
    {
      "cell_type": "code",
      "execution_count": 1,
      "metadata": {
        "colab": {
          "base_uri": "https://localhost:8080/"
        },
        "id": "3hluKy9AjjY2",
        "outputId": "5d3d0fba-bfb8-4f64-eb81-1f8cc7d94627"
      },
      "outputs": [
        {
          "output_type": "stream",
          "name": "stdout",
          "text": [
            "Mounted at /content/drive\n"
          ]
        }
      ],
      "source": [
        "from google.colab import drive\n",
        "drive.mount('/content/drive')"
      ]
    },
    {
      "cell_type": "code",
      "source": [
        "%cd /content/drive/My Drive/Scalable_project"
      ],
      "metadata": {
        "colab": {
          "base_uri": "https://localhost:8080/"
        },
        "id": "hcjQ4nugjqhn",
        "outputId": "ad14ea60-d9cd-49d8-e2b9-43a2a0529f7e"
      },
      "execution_count": 2,
      "outputs": [
        {
          "output_type": "stream",
          "name": "stdout",
          "text": [
            "/content/drive/My Drive/Scalable_project\n"
          ]
        }
      ]
    },
    {
      "cell_type": "code",
      "source": [
        "!ls\n",
        "!pwd"
      ],
      "metadata": {
        "colab": {
          "base_uri": "https://localhost:8080/"
        },
        "id": "pbI8LRzBjwH5",
        "outputId": "5415b9f5-6e11-43ab-9319-7c48b05dbe39"
      },
      "execution_count": 3,
      "outputs": [
        {
          "output_type": "stream",
          "name": "stdout",
          "text": [
            "Dataset_Challenge_Dataset_Agreement.pdf  yelp_business_hours.csv  YelpReviews_.ipynb\n",
            "yelp_business_attributes.csv\t\t yelp_checkin.csv\t  yelp_tip.csv\n",
            "yelp_business.csv\t\t\t yelp_review.csv\t  yelp_user.csv\n",
            "/content/drive/My Drive/Scalable_project\n"
          ]
        }
      ]
    },
    {
      "cell_type": "code",
      "source": [
        "!tar -xvf spark-3.1.2-bin-hadoop3.2.tgz\n",
        "\n",
        "# Installing the library to install the spark in python\n",
        "!pip install -q findspark\n",
        "!pip install pyspark"
      ],
      "metadata": {
        "colab": {
          "base_uri": "https://localhost:8080/"
        },
        "id": "qRs6LfnWjx2e",
        "outputId": "f2da5f9d-5815-4626-b5f9-2a4604da6082"
      },
      "execution_count": 4,
      "outputs": [
        {
          "output_type": "stream",
          "name": "stdout",
          "text": [
            "tar: spark-3.1.2-bin-hadoop3.2.tgz: Cannot open: No such file or directory\n",
            "tar: Error is not recoverable: exiting now\n",
            "Collecting pyspark\n",
            "  Downloading pyspark-3.5.1.tar.gz (317.0 MB)\n",
            "\u001b[2K     \u001b[90m━━━━━━━━━━━━━━━━━━━━━━━━━━━━━━━━━━━━━━━━\u001b[0m \u001b[32m317.0/317.0 MB\u001b[0m \u001b[31m1.1 MB/s\u001b[0m eta \u001b[36m0:00:00\u001b[0m\n",
            "\u001b[?25h  Preparing metadata (setup.py) ... \u001b[?25l\u001b[?25hdone\n",
            "Requirement already satisfied: py4j==0.10.9.7 in /usr/local/lib/python3.10/dist-packages (from pyspark) (0.10.9.7)\n",
            "Building wheels for collected packages: pyspark\n",
            "  Building wheel for pyspark (setup.py) ... \u001b[?25l\u001b[?25hdone\n",
            "  Created wheel for pyspark: filename=pyspark-3.5.1-py2.py3-none-any.whl size=317488491 sha256=1ec405039eb10dcce8483c7614b21b4ebd22d1a0909477526d0e53cb70ad19f9\n",
            "  Stored in directory: /root/.cache/pip/wheels/80/1d/60/2c256ed38dddce2fdd93be545214a63e02fbd8d74fb0b7f3a6\n",
            "Successfully built pyspark\n",
            "Installing collected packages: pyspark\n",
            "Successfully installed pyspark-3.5.1\n"
          ]
        }
      ]
    },
    {
      "cell_type": "code",
      "source": [
        "!pip install pyspark  # Install PySpark if necessary\n",
        "\n",
        "from pyspark.sql import SparkSession\n",
        "from pyspark.sql.functions import col, udf, length\n",
        "from pyspark.sql.types import IntegerType, StringType\n",
        "from pyspark.ml.feature import Tokenizer, StopWordsRemover, CountVectorizer, IDF\n",
        "from pyspark.ml.classification import LogisticRegression\n",
        "from pyspark.ml import Pipeline\n",
        "\n",
        "# Start Spark session with increased memory allocation\n",
        "spark = SparkSession.builder \\\n",
        "    .appName(\"Yelp Sentiment Analysis\") \\\n",
        "    .config(\"spark.executor.memory\", \"8g\") \\\n",
        "    .getOrCreate()\n"
      ],
      "metadata": {
        "colab": {
          "base_uri": "https://localhost:8080/"
        },
        "id": "3oIN53wwjziT",
        "outputId": "89c33a2f-fefb-452a-8c05-9e549e5ddd9a"
      },
      "execution_count": 5,
      "outputs": [
        {
          "output_type": "stream",
          "name": "stdout",
          "text": [
            "Requirement already satisfied: pyspark in /usr/local/lib/python3.10/dist-packages (3.5.1)\n",
            "Requirement already satisfied: py4j==0.10.9.7 in /usr/local/lib/python3.10/dist-packages (from pyspark) (0.10.9.7)\n"
          ]
        }
      ]
    },
    {
      "cell_type": "code",
      "source": [
        "from pyspark.sql.types import StructType, StructField, StringType, DoubleType, IntegerType, TimestampType\n",
        "\n",
        "# Define schemas based on the information you provided\n",
        "review_schema = StructType([\n",
        "    StructField(\"review_id\", StringType()),\n",
        "    StructField(\"user_id\", StringType()),\n",
        "    StructField(\"business_id\", StringType()),\n",
        "    StructField(\"stars\", IntegerType()),\n",
        "    StructField(\"date\", TimestampType()),\n",
        "    StructField(\"text\", StringType()),\n",
        "    StructField(\"useful\", IntegerType()),\n",
        "    StructField(\"funny\", IntegerType()),\n",
        "    StructField(\"cool\", IntegerType())\n",
        "])\n",
        "\n",
        "business_schema = StructType([\n",
        "    StructField(\"business_id\", StringType()),\n",
        "    StructField(\"name\", StringType()),\n",
        "    StructField(\"neighborhood\", StringType()),\n",
        "    StructField(\"address\", StringType()),\n",
        "    StructField(\"city\", StringType()),\n",
        "    StructField(\"state\", StringType()),\n",
        "    StructField(\"postal_code\", StringType()),\n",
        "    StructField(\"latitude\", DoubleType()),\n",
        "    StructField(\"longitude\", DoubleType()),\n",
        "    StructField(\"stars\", DoubleType()),\n",
        "    StructField(\"review_count\", IntegerType()),\n",
        "    StructField(\"is_open\", IntegerType()),\n",
        "    StructField(\"categories\", StringType())\n",
        "])\n",
        "\n",
        "user_schema = StructType([\n",
        "    # Include your user schema here similarly\n",
        "])\n",
        "\n",
        "# Load datasets\n",
        "yelp_review = spark.read.csv('/content/drive/My Drive/Scalable_project/yelp_review.csv', schema=review_schema, header=True)\n",
        "yelp_business = spark.read.csv('/content/drive/My Drive/Scalable_project/yelp_business.csv', schema=business_schema, header=True)\n",
        "yelp_user = spark.read.csv('/content/drive/My Drive/Scalable_project/yelp_user.csv', schema=user_schema, header=True)\n"
      ],
      "metadata": {
        "id": "bRfRUW27kDRT"
      },
      "execution_count": 6,
      "outputs": []
    },
    {
      "cell_type": "markdown",
      "source": [
        "\n",
        "Here is a step-by-step guide with PySpark code for each of the tasks you outlined:\n",
        "\n",
        "1. Top 'Most Reviewed' Businesses"
      ],
      "metadata": {
        "id": "YP7YuN6rkr69"
      }
    },
    {
      "cell_type": "code",
      "source": [
        "from pyspark.sql.functions import desc\n",
        "\n",
        "# Most reviewed businesses\n",
        "most_reviewed_businesses = yelp_business.orderBy(desc(\"review_count\")).limit(10)\n",
        "most_reviewed_businesses.show()\n"
      ],
      "metadata": {
        "colab": {
          "base_uri": "https://localhost:8080/"
        },
        "id": "JWNq-eqqkwqU",
        "outputId": "2af6cf1d-f01d-496a-eb5a-fbbf29824dff"
      },
      "execution_count": 7,
      "outputs": [
        {
          "output_type": "stream",
          "name": "stdout",
          "text": [
            "+--------------------+--------------------+---------------+--------+--------------------+--------------------+--------------------+--------+---------+-----+------------+-------+--------------+\n",
            "|         business_id|                name|   neighborhood| address|                city|               state|         postal_code|latitude|longitude|stars|review_count|is_open|    categories|\n",
            "+--------------------+--------------------+---------------+--------+--------------------+--------------------+--------------------+--------+---------+-----+------------+-------+--------------+\n",
            "|9HVfZnKjd85Fy90kV...|\"\"\"James Q. Del R...|          FAOCD| FAAD\"\"\"|       Spring Valley|     \"\"\"9097 Post Rd|             Ste 100|    NULL|     NULL| NULL|       89148|   NULL|  -115.2904438|\n",
            "|n6Osd2cJoFNH21pzu...|    \"\"\"Kirsten Rojas|             MD|   FACOG|             FACS\"\"\"|       Spring Valley|   \"\"\"9120 W Post Rd|    NULL|     NULL| NULL|       89148|   NULL|   -115.291269|\n",
            "|R58vIa88eZLQojnZT...|             \"\"\"Roth|      Jeffrey J|    M.D.|   A Professional\"\"\"|       Spring Valley| \"\"\"9280 W Sunset Rd|    NULL|     NULL| NULL|       89148|   NULL|  -115.2950229|\n",
            "|Tn_dP2n2ij_VtBflh...|    \"\"\"Mont M Ringer|            DDS|   MS\"\"\"|       Spring Valley|\"\"\"5765 S Fort Ap...|             Ste 110|    NULL|     NULL| NULL|       89148|   NULL|   -115.299523|\n",
            "|K_FXqQO9u2KsNwQfM...|     \"\"\"Joseph Rojas|             MD|   FACOG|             FACS\"\"\"|       Spring Valley|   \"\"\"9120 W Post Rd|    NULL|     NULL| NULL|       89129|   NULL|    -115.29135|\n",
            "|BBel1uYoIcRXhxgzP...|             \"\"\"Wolf|         Rifkin| Shapiro| Schulman & Rabki...|           Southeast|\"\"\"3556 E Russell Rd|    NULL|     NULL| NULL|       89120|   NULL| -115.09849604|\n",
            "|5Y1Vgocxd_NJaC6xS...|\"\"\"Michael C Edwards|             MD| FACS\"\"\"|       Spring Valley| \"\"\"8530 W Sunset Rd|             Ste 130|    NULL|     NULL| NULL|       89113|   NULL|   -115.277708|\n",
            "|PDH95NvcWAZb1J4ep...|     \"\"\"Apple Dental| Dr.Dan C. Paik|  DDS\"\"\"|                NULL|   \"\"\"301 N Pecos Rd|               Ste F|    NULL|     NULL| NULL|       89074|   NULL|   -115.101307|\n",
            "|fOOx0jlx5K6OwPpdK...|\"\"\"Hands In Motio...|         LLC\"\"\"|    NULL|   \"\"\"Beauty Studios| 7155 W Campo Bel...|              Bldg A|    NULL|     NULL| NULL|       85308|   NULL|-112.213611638|\n",
            "|qIzkcbQBPmkG6t6JB...|      \"\"\"Nicole Cain|             ND|   MA\"\"\"|                NULL|\"\"\"11000 N Scotts...|             Ste 230|    NULL|     NULL| NULL|       85282|   NULL|  -111.9267368|\n",
            "+--------------------+--------------------+---------------+--------+--------------------+--------------------+--------------------+--------+---------+-----+------------+-------+--------------+\n",
            "\n"
          ]
        }
      ]
    },
    {
      "cell_type": "code",
      "source": [
        "# Inorder to look at the reviews and their count we filter the data for which star rating is greater than 3\n",
        "review_filtered = yelp_review.filter('stars >3')\n",
        "grouped_review = review_filtered.groupby('business_id').count()\n",
        "sort_review = grouped_review.sort('count',ascending=False)\n",
        "\n",
        "business_1 = yelp_business.select('business_id','name','categories')\n",
        "review_business_name = business_1.join(sort_review,'business_id','inner')\n",
        "business_reviewed = review_business_name.limit(10)\n",
        "business_reviewed.show()"
      ],
      "metadata": {
        "colab": {
          "base_uri": "https://localhost:8080/"
        },
        "id": "a9P3YJIdmRoQ",
        "outputId": "a906a8fc-d9d0-4d5d-b234-76bc3224f964"
      },
      "execution_count": 8,
      "outputs": [
        {
          "output_type": "stream",
          "name": "stdout",
          "text": [
            "+--------------------+--------------------+--------------------+-----+\n",
            "|         business_id|                name|          categories|count|\n",
            "+--------------------+--------------------+--------------------+-----+\n",
            "|--6MefnULPED_I942...|\"\"\"John's Chinese...|                  37|   17|\n",
            "|--7zmmkVg-IMGaXbu...|\"\"\"Primal Brewery\"\"\"|      Food;Breweries|   34|\n",
            "|--9QQLMTbFzLJ_oT-...|   \"\"\"Great Clips\"\"\"|                   1|    6|\n",
            "|--9e1ONYQuAa-CB_R...|\"\"\"Delmonico Stea...|Cajun/Creole;Stea...| 1104|\n",
            "|--DaPTJW3-tB1vP-P...|\"\"\"Sunnyside Gril...|Restaurants;Break...|   25|\n",
            "|--EF5N7P70J_UYBTP...|   \"\"\"MV Nail Spa\"\"\"|Beauty & Spas;Nai...|    1|\n",
            "|--FLdgM0GNpXVMn74...|\"\"\"Welch Physical...|                   6|    4|\n",
            "|--I7YYLada0tSLkOR...|\"\"\"Happy Moose Ba...|Restaurants;Sport...|   41|\n",
            "|--LY7PrnEegglB7vn...|\"\"\"International ...|                   1|    8|\n",
            "|--R3uiY2dB43Mpdwt...|\"\"\"Don Valley Nor...|                   1|    6|\n",
            "+--------------------+--------------------+--------------------+-----+\n",
            "\n"
          ]
        }
      ]
    },
    {
      "cell_type": "markdown",
      "source": [
        "2. Count of Top Business Categories/Industries"
      ],
      "metadata": {
        "id": "iqIixpg8k6b1"
      }
    },
    {
      "cell_type": "code",
      "source": [
        "from pyspark.sql.functions import explode, split\n",
        "\n",
        "# Split the categories string into individual categories\n",
        "yelp_business = yelp_business.withColumn(\"category\", explode(split(\"categories\", \", \")))\n",
        "\n",
        "# Count the number of businesses per category\n",
        "category_counts = yelp_business.groupBy(\"category\").count().orderBy(desc(\"count\"))\n",
        "category_counts.show()\n"
      ],
      "metadata": {
        "colab": {
          "base_uri": "https://localhost:8080/"
        },
        "id": "YJOdw3Xyk8MJ",
        "outputId": "1d43a62f-9bb6-4dc6-f16f-dbeeb466f4b2"
      },
      "execution_count": 9,
      "outputs": [
        {
          "output_type": "stream",
          "name": "stdout",
          "text": [
            "+--------------------+-----+\n",
            "|            category|count|\n",
            "+--------------------+-----+\n",
            "|                   1|36925|\n",
            "|                   0| 7292|\n",
            "|   Restaurants;Pizza|  840|\n",
            "|   Pizza;Restaurants|  827|\n",
            "|   Food;Coffee & Tea|  813|\n",
            "| Mexican;Restaurants|  761|\n",
            "|   Coffee & Tea;Food|  725|\n",
            "| Restaurants;Mexican|  720|\n",
            "| Restaurants;Chinese|  661|\n",
            "|                   3|  627|\n",
            "| Chinese;Restaurants|  623|\n",
            "|Beauty & Spas;Nai...|  570|\n",
            "|Nail Salons;Beaut...|  568|\n",
            "|Beauty & Spas;Hai...|  531|\n",
            "| Restaurants;Italian|  524|\n",
            "| Italian;Restaurants|  504|\n",
            "|        Food;Grocery|  500|\n",
            "|        Grocery;Food|  494|\n",
            "|Hair Salons;Beaut...|  486|\n",
            "|Auto Repair;Autom...|  445|\n",
            "+--------------------+-----+\n",
            "only showing top 20 rows\n",
            "\n"
          ]
        }
      ]
    },
    {
      "cell_type": "markdown",
      "source": [
        "3. Count of Different Star Ratings in Our Dataset"
      ],
      "metadata": {
        "id": "uXvqTmnSlWEh"
      }
    },
    {
      "cell_type": "code",
      "source": [
        "star_counts = yelp_review.groupBy(\"stars\").count().orderBy(\"stars\")\n",
        "star_counts.show()\n"
      ],
      "metadata": {
        "colab": {
          "base_uri": "https://localhost:8080/"
        },
        "id": "tYiQG5USlAx-",
        "outputId": "9aee53f6-82be-48dd-ae45-2a6fadafc1a4"
      },
      "execution_count": 10,
      "outputs": [
        {
          "output_type": "stream",
          "name": "stdout",
          "text": [
            "+-----+-------+\n",
            "|stars|  count|\n",
            "+-----+-------+\n",
            "| NULL|5360250|\n",
            "|    0|1110530|\n",
            "|    1|1076417|\n",
            "|    2| 588297|\n",
            "|    3| 692015|\n",
            "|    4|1267260|\n",
            "|    5|2280944|\n",
            "|    6|  18568|\n",
            "|    7|  12945|\n",
            "|    8|   9384|\n",
            "|    9|   6992|\n",
            "|   10|   5409|\n",
            "|   11|   4003|\n",
            "|   12|   3204|\n",
            "|   13|   2516|\n",
            "|   14|   2109|\n",
            "|   15|   1718|\n",
            "|   16|   1364|\n",
            "|   17|   1145|\n",
            "|   18|   1059|\n",
            "+-----+-------+\n",
            "only showing top 20 rows\n",
            "\n"
          ]
        }
      ]
    },
    {
      "cell_type": "code",
      "source": [
        "rating = yelp_business.select('stars')\n",
        "group_rating = rating.groupby('stars').count()\n",
        "rating_top = group_rating.sort('count',ascending=False)\n",
        "rating_top = rating_top.show(truncate=False)\n",
        "\n"
      ],
      "metadata": {
        "colab": {
          "base_uri": "https://localhost:8080/"
        },
        "id": "j5vN9UmimMPU",
        "outputId": "45542476-8db2-4603-b091-685964ff08d5"
      },
      "execution_count": 11,
      "outputs": [
        {
          "output_type": "stream",
          "name": "stdout",
          "text": [
            "+------------+-----+\n",
            "|stars       |count|\n",
            "+------------+-----+\n",
            "|4.0         |24818|\n",
            "|3.5         |24323|\n",
            "|3.0         |18085|\n",
            "|4.5         |17224|\n",
            "|5.0         |16503|\n",
            "|2.5         |12621|\n",
            "|2.0         |7377 |\n",
            "|1.5         |3411 |\n",
            "|1.0         |2848 |\n",
            "|NULL        |61   |\n",
            "|-111.9294198|33   |\n",
            "|-111.964485 |24   |\n",
            "|-115.146372 |22   |\n",
            "|-115.1963237|21   |\n",
            "|-115.1715512|21   |\n",
            "|-115.1690207|20   |\n",
            "|-115.1711298|20   |\n",
            "|-111.9836094|19   |\n",
            "|-115.136389 |19   |\n",
            "|-115.1714113|19   |\n",
            "+------------+-----+\n",
            "only showing top 20 rows\n",
            "\n"
          ]
        }
      ]
    },
    {
      "cell_type": "markdown",
      "source": [
        "4. Top Cities with Maximum Number of Businesses"
      ],
      "metadata": {
        "id": "wv8hq_09lax1"
      }
    },
    {
      "cell_type": "code",
      "source": [
        "city_counts = yelp_business.groupBy(\"city\").count().orderBy(desc(\"count\"))\n",
        "city_counts.show()\n"
      ],
      "metadata": {
        "colab": {
          "base_uri": "https://localhost:8080/"
        },
        "id": "BXcTyOAhlZ9Z",
        "outputId": "d49c1d57-4538-4a91-cc96-5e2e1ddf7262"
      },
      "execution_count": 12,
      "outputs": [
        {
          "output_type": "stream",
          "name": "stdout",
          "text": [
            "+-----------+-----+\n",
            "|       city|count|\n",
            "+-----------+-----+\n",
            "|  Las Vegas|16112|\n",
            "|    Toronto|14595|\n",
            "|    Phoenix|11967|\n",
            "|  Charlotte| 5986|\n",
            "| Pittsburgh| 5771|\n",
            "|   Montréal| 5223|\n",
            "| Scottsdale| 4327|\n",
            "|       Mesa| 3629|\n",
            "|  Edinburgh| 3148|\n",
            "|  Cleveland| 3069|\n",
            "|    Madison| 2868|\n",
            "|  Henderson| 2561|\n",
            "|      Tempe| 2551|\n",
            "|   Chandler| 2237|\n",
            "|   Glendale| 1999|\n",
            "|Mississauga| 1998|\n",
            "|  Stuttgart| 1902|\n",
            "|    Gilbert| 1661|\n",
            "| Ste 100\"\"\"| 1587|\n",
            "| Ste 101\"\"\"| 1540|\n",
            "+-----------+-----+\n",
            "only showing top 20 rows\n",
            "\n"
          ]
        }
      ]
    },
    {
      "cell_type": "code",
      "source": [
        "locations = yelp_business.select('business_id','city')\n",
        "review_city = yelp_review.select('business_id')\n",
        "merge_city = locations.join(review_city,'business_id','inner')\n",
        "grouped_review_city = merge_city.groupby('city').count()\n",
        "most_reviewed_city = grouped_review_city.groupby('city').sum()\n",
        "most_reviewed_city.sort('sum(count)',ascending=False).show(10)"
      ],
      "metadata": {
        "colab": {
          "base_uri": "https://localhost:8080/"
        },
        "id": "a0TK2hB0mfDf",
        "outputId": "a63e1923-df0d-4968-cb56-ce3dcaae6004"
      },
      "execution_count": 13,
      "outputs": [
        {
          "output_type": "stream",
          "name": "stdout",
          "text": [
            "+----------+----------+\n",
            "|      city|sum(count)|\n",
            "+----------+----------+\n",
            "| Las Vegas|   1028279|\n",
            "|   Phoenix|    425570|\n",
            "|   Toronto|    384589|\n",
            "|Scottsdale|    189792|\n",
            "|Pittsburgh|    172156|\n",
            "| Charlotte|    171659|\n",
            "|  Montréal|    116357|\n",
            "|     Tempe|    103529|\n",
            "| Henderson|     97396|\n",
            "| Cleveland|     87701|\n",
            "+----------+----------+\n",
            "only showing top 10 rows\n",
            "\n"
          ]
        }
      ]
    },
    {
      "cell_type": "markdown",
      "source": [
        "5. Number of Reviews per Star Rating"
      ],
      "metadata": {
        "id": "L2gYBFaAlhT2"
      }
    },
    {
      "cell_type": "code",
      "source": [],
      "metadata": {
        "id": "9p5zaE7j-SEh"
      },
      "execution_count": 13,
      "outputs": []
    },
    {
      "cell_type": "code",
      "source": [
        "# This is similar to task 3, already provided above\n",
        "star_counts.show()\n"
      ],
      "metadata": {
        "colab": {
          "base_uri": "https://localhost:8080/"
        },
        "id": "01CK7_Rhllf3",
        "outputId": "99ba0c9a-e6e5-40d9-867f-8b161f3f0098"
      },
      "execution_count": 14,
      "outputs": [
        {
          "output_type": "stream",
          "name": "stdout",
          "text": [
            "+-----+-------+\n",
            "|stars|  count|\n",
            "+-----+-------+\n",
            "| NULL|5360250|\n",
            "|    0|1110530|\n",
            "|    1|1076417|\n",
            "|    2| 588297|\n",
            "|    3| 692015|\n",
            "|    4|1267260|\n",
            "|    5|2280944|\n",
            "|    6|  18568|\n",
            "|    7|  12945|\n",
            "|    8|   9384|\n",
            "|    9|   6992|\n",
            "|   10|   5409|\n",
            "|   11|   4003|\n",
            "|   12|   3204|\n",
            "|   13|   2516|\n",
            "|   14|   2109|\n",
            "|   15|   1718|\n",
            "|   16|   1364|\n",
            "|   17|   1145|\n",
            "|   18|   1059|\n",
            "+-----+-------+\n",
            "only showing top 20 rows\n",
            "\n"
          ]
        }
      ]
    },
    {
      "cell_type": "code",
      "source": [
        "#yelp_review_1= yelp_review.groupBy('stars').agg(count('review_id').alias('count')).sort('stars').show()"
      ],
      "metadata": {
        "id": "f299SC3umu3H"
      },
      "execution_count": 15,
      "outputs": []
    },
    {
      "cell_type": "markdown",
      "source": [
        "6. Plotting the Count of Each Star Rating"
      ],
      "metadata": {
        "id": "KyizocQTmv9r"
      }
    },
    {
      "cell_type": "code",
      "source": [
        "import matplotlib.pyplot as plt\n",
        "\n",
        "# Collect the data\n",
        "result = star_counts.collect()\n",
        "\n",
        "# Prepare data for plotting\n",
        "ratings = [int(row['stars']) if row['stars'] is not None else 0 for row in result]\n",
        "counts = [int(row['count']) for row in result]\n",
        "\n",
        "# Plotting\n",
        "plt.figure(figsize=(10, 5))\n",
        "bars = plt.bar(ratings, counts, color='blue')\n",
        "plt.xlabel('Star Ratings', fontsize=12)\n",
        "plt.ylabel('Count', fontsize=12)\n",
        "plt.title('Count of Each Star Rating', fontsize=14)\n",
        "plt.xticks(sorted(set(ratings)), fontsize=10)  # Sorting and setting ratings for x-axis\n",
        "\n",
        "# Adding a legend if necessary\n",
        "plt.legend([bars], ['Number of Reviews'], fontsize=10, loc='upper right')\n",
        "\n",
        "# Improve overall aesthetics\n",
        "plt.grid(True, which='both', linestyle='--', linewidth=0.5)\n",
        "plt.tight_layout()  # Adjusts plot to ensure everything fits without overlap\n",
        "\n",
        "plt.show()\n"
      ],
      "metadata": {
        "colab": {
          "base_uri": "https://localhost:8080/",
          "height": 507
        },
        "id": "hjZGKTKHm27K",
        "outputId": "c855262d-001a-4fcd-d488-7ad5737affd2"
      },
      "execution_count": 16,
      "outputs": [
        {
          "output_type": "display_data",
          "data": {
            "text/plain": [
              "<Figure size 1000x500 with 1 Axes>"
            ],
            "image/png": "[encoded data removed]"
          },
          "metadata": {}
        }
      ]
    },
    {
      "cell_type": "markdown",
      "source": [
        "Check for Null Values and Handle Them"
      ],
      "metadata": {
        "id": "AiPqXRkpm9zL"
      }
    },
    {
      "cell_type": "code",
      "source": [
        "from pyspark.sql.functions import col\n",
        "\n",
        "# Check for null values in all columns of yelp_review\n",
        "for column in yelp_review.columns:\n",
        "    print(f\"Nulls in {column}: \", yelp_review.filter(col(column).isNull()).count())\n",
        "\n",
        "# Handling nulls: Assuming replacing null text in reviews with empty string\n",
        "yelp_review = yelp_review.na.fill({'text': ''})\n"
      ],
      "metadata": {
        "colab": {
          "base_uri": "https://localhost:8080/"
        },
        "id": "9z8Ad8pVnD3T",
        "outputId": "d2b77535-e02d-4655-bd69-7e798253fb65"
      },
      "execution_count": 17,
      "outputs": [
        {
          "output_type": "stream",
          "name": "stdout",
          "text": [
            "Nulls in review_id:  203\n",
            "Nulls in user_id:  2079178\n",
            "Nulls in business_id:  3165175\n",
            "Nulls in stars:  5360250\n",
            "Nulls in date:  7193021\n",
            "Nulls in text:  6135851\n",
            "Nulls in useful:  9233741\n",
            "Nulls in funny:  9306487\n",
            "Nulls in cool:  9335890\n"
          ]
        }
      ]
    },
    {
      "cell_type": "markdown",
      "source": [
        "8. Text Preprocessing Including Punctuation Removal, Tokenization, and Stop Word Removal"
      ],
      "metadata": {
        "id": "IkhmPPSpnckR"
      }
    },
    {
      "cell_type": "code",
      "source": [
        "from pyspark.ml.feature import RegexTokenizer, StopWordsRemover\n",
        "\n",
        "# Remove punctuation and tokenize\n",
        "regex_tokenizer = RegexTokenizer(inputCol=\"text\", outputCol=\"words\", pattern=\"\\\\W\")\n",
        "yelp_review = regex_tokenizer.transform(yelp_review)\n",
        "\n",
        "# Remove stop words\n",
        "stop_words_remover = StopWordsRemover(inputCol=\"words\", outputCol=\"filtered_words\")\n",
        "yelp_review = stop_words_remover.transform(yelp_review)\n"
      ],
      "metadata": {
        "id": "yq_ZpiAcnhZE"
      },
      "execution_count": 18,
      "outputs": []
    },
    {
      "cell_type": "markdown",
      "source": [
        "Sentiment Classification Based on Star Rating (positive if stars > 3)"
      ],
      "metadata": {
        "id": "PExNE8zTqTaN"
      }
    },
    {
      "cell_type": "code",
      "source": [
        "from pyspark.sql.functions import col, when\n",
        "\n",
        "# Assuming yelp_review is your DataFrame\n",
        "# Add a column for sentiment classification\n",
        "filtered_yelp_review = yelp_review.filter((col(\"stars\") > 3) & (col(\"stars\").isNotNull()))\n",
        "\n",
        "# Since all remaining rows are greater than 3 stars, we can directly set sentiment as 1\n",
        "filtered_yelp_review = filtered_yelp_review.withColumn(\"sentiment\", when(col(\"stars\") > 3, 1).otherwise(0))\n",
        "\n",
        "# Display the DataFrame with the new column\n",
        "filtered_yelp_review.show()"
      ],
      "metadata": {
        "colab": {
          "base_uri": "https://localhost:8080/"
        },
        "id": "HeWnpBEAqXRg",
        "outputId": "a5b8b6d7-1caf-4984-d903-d6d4b650bbac"
      },
      "execution_count": 19,
      "outputs": [
        {
          "output_type": "stream",
          "name": "stdout",
          "text": [
            "+--------------------+--------------------+--------------------+-----+-------------------+--------------------+------+-----+----+--------------------+--------------------+---------+\n",
            "|           review_id|             user_id|         business_id|stars|               date|                text|useful|funny|cool|               words|      filtered_words|sentiment|\n",
            "+--------------------+--------------------+--------------------+-----+-------------------+--------------------+------+-----+----+--------------------+--------------------+---------+\n",
            "|vkVSCC7xljjrAI4UG...|bv2nCi5Qv5vroFiqK...|AEx2SYEUJmTxVVB18...|    5|2016-05-28 00:00:00|Super simple plac...|  NULL| NULL|NULL|[super, simple, p...|[super, simple, p...|        1|\n",
            "|n6QzIUObkYshz4dz2...|bv2nCi5Qv5vroFiqK...|VR6GpWIda3SfvPC-l...|    5|2016-05-28 00:00:00|Small unassuming ...|  NULL| NULL|NULL|[small, unassumin...|[small, unassumin...|        1|\n",
            "|MV3CcKScW05u5LVfF...|bv2nCi5Qv5vroFiqK...|CKC0-MOWMqoeWf6s-...|    5|2016-05-28 00:00:00|Lester's is locat...|  NULL| NULL|NULL|[lester, s, is, l...|[lester, located,...|        1|\n",
            "|IXvOzsEMYtiJI0CAR...|bv2nCi5Qv5vroFiqK...|ACFtxLv8pGrrxMm6E...|    4|2016-05-28 00:00:00|Love coming here....|  NULL| NULL|NULL|[love, coming, he...|[love, coming, ye...|        1|\n",
            "|L_9BTb55X0GDtThi6...|bv2nCi5Qv5vroFiqK...|s2I_Ni76bjJNK9yG6...|    4|2016-05-28 00:00:00|Had their chocola...|  NULL| NULL|NULL|[had, their, choc...|[chocolate, almon...|        1|\n",
            "|HRPm3vEZ_F-33TYVT...|_4iMDXbXZ1p1ONG29...|8QWPlVQ6D-OExqXoa...|    5|2014-09-24 00:00:00|Cycle Pub Las Veg...|     1|    0|   0|[cycle, pub, las,...|[cycle, pub, las,...|        1|\n",
            "|ymAUG8DZfQcFTBSOi...|u0LXt3Uea_GidxRW1...|9_CGhHMz8698M9-Pk...|    4|2012-05-11 00:00:00|Who would have gu...|  NULL| NULL|NULL|[who, would, have...|[guess, able, get...|        1|\n",
            "|8UIishPUD92hXtScS...|u0LXt3Uea_GidxRW1...|gkCorLgPyQLsptTHa...|    4|2015-10-27 00:00:00|Always drove past...|  NULL| NULL|NULL|[always, drove, p...|[always, drove, p...|        1|\n",
            "|WF_QTN3p-thD74hqp...|u0LXt3Uea_GidxRW1...|fDF_o2JPU8BR1Gya-...|    5|2016-04-06 00:00:00|    Love this place!|  NULL| NULL|NULL| [love, this, place]|       [love, place]|        1|\n",
            "|PIsUSmvaUWB00qv5K...|u0LXt3Uea_GidxRW1...|z8oIoCT1cXz7gZP5G...|    4|2013-05-01 00:00:00|This is currently...|  NULL| NULL|NULL|[this, is, curren...|[currently, paren...|        1|\n",
            "|23eqwlZzCWZkADWfd...|u0LXt3Uea_GidxRW1...|Aov96CM4FZAXeZvKt...|    5|2010-07-16 00:00:00|This place is awe...|  NULL| NULL|NULL|[this, place, is,...|[place, awesome, ...|        1|\n",
            "|FunI9om-aK5oMIIJm...|u0LXt3Uea_GidxRW1...|0W4lkclzZThpx3V65...|    4|2011-09-28 00:00:00|a must stop when ...|  NULL| NULL|NULL|[a, must, stop, w...|[must, stop, mont...|        1|\n",
            "|Kki2nwtP8U2qmWwRv...|u0LXt3Uea_GidxRW1...|RWGI8u00x5GghYCEz...|    4|2011-10-14 00:00:00|This place remind...|  NULL| NULL|NULL|[this, place, rem...|[place, reminds, ...|        1|\n",
            "|_ku1sDwkmQo2wIgWA...|u0LXt3Uea_GidxRW1...|tOhRQqiupLyJdBJVQ...|    5|2012-09-23 00:00:00|OMG - Definitely ...|  NULL| NULL|NULL|[omg, definitely,...|[omg, definitely,...|        1|\n",
            "|iYlepMJ6j4whB8gxi...|u0LXt3Uea_GidxRW1...|AIUFSIIdCEi3XoRJa...|    4|2016-04-12 00:00:00|Love the selectio...|  NULL| NULL|NULL|[love, the, selec...|[love, selection,...|        1|\n",
            "|reeZj98t_X1DrZgQg...|u0LXt3Uea_GidxRW1...|4_GIJk0tX3k0x0FcU...|    4|2010-07-26 00:00:00|Hidden on the eas...|  NULL| NULL|NULL|[hidden, on, the,...|[hidden, east, en...|        1|\n",
            "|rQgIiq1FJR8NwBJuW...|u0LXt3Uea_GidxRW1...|a9aW5e731lplWGHUZ...|    4|2013-02-09 00:00:00|Decided to try th...|  NULL| NULL|NULL|[decided, to, try...|[decided, try, pl...|        1|\n",
            "|7GsVl-wMaSfG1VoEK...|u0LXt3Uea_GidxRW1...|3E5umUqaU5OZAV3jN...|    4|2017-11-02 00:00:00|Great place to br...|  NULL| NULL|NULL|[great, place, to...|[great, place, br...|        1|\n",
            "|zEDdYhDYYfvd8bSQq...|u0LXt3Uea_GidxRW1...|0-yj2jtzLUHG2b7Pp...|    4|2010-01-15 00:00:00|Hidden in the eas...|  NULL| NULL|NULL|[hidden, in, the,...|[hidden, east, en...|        1|\n",
            "|b1Volwlw8gt_IGh9P...|u0LXt3Uea_GidxRW1...|N-11FCEppz5NVYZVM...|    5|2016-02-08 00:00:00|This review is ma...|  NULL| NULL|NULL|[this, review, is...|[review, mainly, ...|        1|\n",
            "+--------------------+--------------------+--------------------+-----+-------------------+--------------------+------+-----+----+--------------------+--------------------+---------+\n",
            "only showing top 20 rows\n",
            "\n"
          ]
        }
      ]
    },
    {
      "cell_type": "markdown",
      "source": [
        "Feature Selection Using CountVectorizer and TF-IDF"
      ],
      "metadata": {
        "id": "TkDqrG7Lrdha"
      }
    },
    {
      "cell_type": "code",
      "source": [
        "# CountVectorizer\n",
        "cv = CountVectorizer(inputCol=\"filtered_words\", outputCol=\"features\")\n",
        "model = cv.fit(yelp_review)\n",
        "yelp_review = model.transform(yelp_review)\n",
        "\n",
        "# TF-IDF\n",
        "idf = IDF(inputCol=\"features\", outputCol=\"features_idf\")\n",
        "idf_model = idf.fit(yelp_review)\n",
        "yelp_review = idf_model.transform(yelp_review)\n"
      ],
      "metadata": {
        "id": "lTkVxLFqqZMB"
      },
      "execution_count": 20,
      "outputs": []
    },
    {
      "cell_type": "markdown",
      "source": [
        "Training a Model for Sentiment Prediction"
      ],
      "metadata": {
        "id": "xrq4mmd5LMnz"
      }
    },
    {
      "cell_type": "code",
      "source": [
        "from pyspark.sql.functions import col\n",
        "from pyspark.ml.feature import CountVectorizer, IDF, RegexTokenizer, StopWordsRemover\n",
        "from pyspark.ml import Pipeline\n",
        "\n",
        "# Check if 'features_idf' column already exists, if not, create it\n",
        "if 'features_idf' not in yelp_review.columns:\n",
        "    # Text processing setup\n",
        "    tokenizer = RegexTokenizer(inputCol=\"text\", outputCol=\"words\", pattern=\"\\\\W\")\n",
        "    remover = StopWordsRemover(inputCol=\"words\", outputCol=\"filtered_words\")\n",
        "\n",
        "    # Feature extraction setup\n",
        "    cv = CountVectorizer(inputCol=\"filtered_words\", outputCol=\"raw_features\")\n",
        "    idf = IDF(inputCol=\"raw_features\", outputCol=\"features_idf\")\n",
        "\n",
        "    # Pipeline to process text and extract features\n",
        "    pipeline = Pipeline(stages=[tokenizer, remover, cv, idf])\n",
        "    yelp_review = pipeline.fit(yelp_review).transform(yelp_review)\n",
        "\n",
        "# Check if the sentiment column exists, if not, create it\n",
        "if 'sentiment' not in yelp_review.columns:\n",
        "    yelp_review = yelp_review.withColumn(\"sentiment\", when(col(\"stars\") > 3, 1).otherwise(0))\n",
        "\n",
        "# Convert DataFrame to RDD for LabeledPoint\n",
        "rdd = yelp_review.select(\"sentiment\", \"features_idf\").rdd\n",
        "\n",
        "from pyspark.mllib.regression import LabeledPoint\n",
        "from pyspark.mllib.linalg import Vectors\n",
        "\n",
        "# Map to LabeledPoint, accommodating the dense vector conversion\n",
        "labeled_points = rdd.map(lambda row: LabeledPoint(row['sentiment'], Vectors.dense(row['features_idf'].toArray())))\n",
        "\n",
        "# Split the data into training and test sets\n",
        "train_rdd, test_rdd = labeled_points.randomSplit([0.8, 0.2], seed=42)\n"
      ],
      "metadata": {
        "id": "I8WKBNCmrjuL"
      },
      "execution_count": 21,
      "outputs": []
    },
    {
      "cell_type": "markdown",
      "source": [
        "NAIVE BAYES"
      ],
      "metadata": {
        "id": "QaJE5bRtTzBr"
      }
    },
    {
      "cell_type": "markdown",
      "source": [
        "Clean Data and Tokenize Sentences using RegexTokenizer\n",
        "CountVectorize the tokenized data to transform text into a set of frequency features\n",
        "Convert Labels to Numerical Values using a Binarizer or StringIndexer (based on context; here we’ll use StringIndexer as it’s more common for handling categorical data)\n",
        "(Skipped in your requirements) Vectorize features using VectorAssembler is typically used when you have multiple feature columns to combine, but with text data transformed through CountVectorizer, this step is generally not necessary."
      ],
      "metadata": {
        "id": "2YD3qp4jT6ut"
      }
    },
    {
      "cell_type": "code",
      "source": [
        "from pyspark.ml.classification import DecisionTreeClassifier\n",
        "from pyspark.ml import Pipeline\n",
        "from pyspark.ml.feature import RegexTokenizer, CountVectorizer, StringIndexer, VectorAssembler\n",
        "from pyspark.sql import SparkSession\n",
        "\n",
        "# Define stages for the pipeline\n",
        "stages = []\n",
        "\n",
        "# 1. Clean data and tokenize sentences using RegexTokenizer\n",
        "regexTokenizer = RegexTokenizer(inputCol=\"text\", outputCol=\"tokens\", pattern=\"\\\\W+\")\n",
        "stages += [regexTokenizer]\n",
        "\n",
        "# 2. CountVectorize the data\n",
        "cv = CountVectorizer(inputCol=\"tokens\", outputCol=\"token_features\", minDF=2.0)\n",
        "stages += [cv]\n",
        "\n",
        "# 3. Convert the labels to numerical values using StringIndexer\n",
        "indexer = StringIndexer(inputCol=\"label\", outputCol=\"labelIndex\")\n",
        "stages += [indexer]\n",
        "\n",
        "# 4. Vectorize features using VectorAssembler\n",
        "vecAssembler = VectorAssembler(inputCols=['token_features'], outputCol=\"features\")\n",
        "stages += [vecAssembler]\n",
        "\n",
        "# 5. Define Decision Tree Classifier\n",
        "dt = DecisionTreeClassifier(featuresCol='features', labelCol='labelIndex')\n",
        "\n",
        "# Create a pipeline\n",
        "pipeline = Pipeline(stages=stages + [dt])\n",
        "\n",
        "# Fit the pipeline to the data\n",
        "pipeline_model = pipeline.fit(yelp_review)\n",
        "\n",
        "# Make predictions on test data\n",
        "predictions = pipeline_model.transform(yelp_review)\n",
        "\n",
        "# Select results to view\n",
        "predictions.select(\"label\", \"prediction\").show(truncate=False)\n"
      ],
      "metadata": {
        "colab": {
          "base_uri": "https://localhost:8080/",
          "height": 842
        },
        "id": "dSY_gea7606l",
        "outputId": "720268cb-4b0f-4a2b-f02e-09e4ba9b19a6"
      },
      "execution_count": 23,
      "outputs": [
        {
          "output_type": "error",
          "ename": "Py4JJavaError",
          "evalue": "An error occurred while calling o361.fit.\n: org.apache.spark.SparkException: Input column label does not exist.\n\tat org.apache.spark.ml.feature.StringIndexerBase.$anonfun$validateAndTransformSchema$2(StringIndexer.scala:128)\n\tat scala.collection.TraversableLike.$anonfun$flatMap$1(TraversableLike.scala:293)\n\tat scala.collection.IndexedSeqOptimized.foreach(IndexedSeqOptimized.scala:36)\n\tat scala.collection.IndexedSeqOptimized.foreach$(IndexedSeqOptimized.scala:33)\n\tat scala.collection.mutable.ArrayOps$ofRef.foreach(ArrayOps.scala:198)\n\tat scala.collection.TraversableLike.flatMap(TraversableLike.scala:293)\n\tat scala.collection.TraversableLike.flatMap$(TraversableLike.scala:290)\n\tat scala.collection.mutable.ArrayOps$ofRef.flatMap(ArrayOps.scala:198)\n\tat org.apache.spark.ml.feature.StringIndexerBase.validateAndTransformSchema(StringIndexer.scala:123)\n\tat org.apache.spark.ml.feature.StringIndexerBase.validateAndTransformSchema$(StringIndexer.scala:115)\n\tat org.apache.spark.ml.feature.StringIndexer.validateAndTransformSchema(StringIndexer.scala:145)\n\tat org.apache.spark.ml.feature.StringIndexer.transformSchema(StringIndexer.scala:252)\n\tat org.apache.spark.ml.PipelineStage.transformSchema(Pipeline.scala:71)\n\tat org.apache.spark.ml.feature.StringIndexer.fit(StringIndexer.scala:237)\n\tat org.apache.spark.ml.feature.StringIndexer.fit(StringIndexer.scala:145)\n\tat java.base/jdk.internal.reflect.NativeMethodAccessorImpl.invoke0(Native Method)\n\tat java.base/jdk.internal.reflect.NativeMethodAccessorImpl.invoke(NativeMethodAccessorImpl.java:62)\n\tat java.base/jdk.internal.reflect.DelegatingMethodAccessorImpl.invoke(DelegatingMethodAccessorImpl.java:43)\n\tat java.base/java.lang.reflect.Method.invoke(Method.java:566)\n\tat py4j.reflection.MethodInvoker.invoke(MethodInvoker.java:244)\n\tat py4j.reflection.ReflectionEngine.invoke(ReflectionEngine.java:374)\n\tat py4j.Gateway.invoke(Gateway.java:282)\n\tat py4j.commands.AbstractCommand.invokeMethod(AbstractCommand.java:132)\n\tat py4j.commands.CallCommand.execute(CallCommand.java:79)\n\tat py4j.ClientServerConnection.waitForCommands(ClientServerConnection.java:182)\n\tat py4j.ClientServerConnection.run(ClientServerConnection.java:106)\n\tat java.base/java.lang.Thread.run(Thread.java:829)\n",
          "traceback": [
            "\u001b[0;31m---------------------------------------------------------------------------\u001b[0m",
            "\u001b[0;31mPy4JJavaError\u001b[0m                             Traceback (most recent call last)",
            "\u001b[0;32m<ipython-input-23-49559f8167ec>\u001b[0m in \u001b[0;36m<cell line: 32>\u001b[0;34m()\u001b[0m\n\u001b[1;32m     30\u001b[0m \u001b[0;34m\u001b[0m\u001b[0m\n\u001b[1;32m     31\u001b[0m \u001b[0;31m# Fit the pipeline to the data\u001b[0m\u001b[0;34m\u001b[0m\u001b[0;34m\u001b[0m\u001b[0m\n\u001b[0;32m---> 32\u001b[0;31m \u001b[0mpipeline_model\u001b[0m \u001b[0;34m=\u001b[0m \u001b[0mpipeline\u001b[0m\u001b[0;34m.\u001b[0m\u001b[0mfit\u001b[0m\u001b[0;34m(\u001b[0m\u001b[0myelp_review\u001b[0m\u001b[0;34m)\u001b[0m\u001b[0;34m\u001b[0m\u001b[0;34m\u001b[0m\u001b[0m\n\u001b[0m\u001b[1;32m     33\u001b[0m \u001b[0;34m\u001b[0m\u001b[0m\n\u001b[1;32m     34\u001b[0m \u001b[0;31m# Make predictions on test data\u001b[0m\u001b[0;34m\u001b[0m\u001b[0;34m\u001b[0m\u001b[0m\n",
            "\u001b[0;32m/usr/local/lib/python3.10/dist-packages/pyspark/ml/base.py\u001b[0m in \u001b[0;36mfit\u001b[0;34m(self, dataset, params)\u001b[0m\n\u001b[1;32m    203\u001b[0m                 \u001b[0;32mreturn\u001b[0m \u001b[0mself\u001b[0m\u001b[0;34m.\u001b[0m\u001b[0mcopy\u001b[0m\u001b[0;34m(\u001b[0m\u001b[0mparams\u001b[0m\u001b[0;34m)\u001b[0m\u001b[0;34m.\u001b[0m\u001b[0m_fit\u001b[0m\u001b[0;34m(\u001b[0m\u001b[0mdataset\u001b[0m\u001b[0;34m)\u001b[0m\u001b[0;34m\u001b[0m\u001b[0;34m\u001b[0m\u001b[0m\n\u001b[1;32m    204\u001b[0m             \u001b[0;32melse\u001b[0m\u001b[0;34m:\u001b[0m\u001b[0;34m\u001b[0m\u001b[0;34m\u001b[0m\u001b[0m\n\u001b[0;32m--> 205\u001b[0;31m                 \u001b[0;32mreturn\u001b[0m \u001b[0mself\u001b[0m\u001b[0;34m.\u001b[0m\u001b[0m_fit\u001b[0m\u001b[0;34m(\u001b[0m\u001b[0mdataset\u001b[0m\u001b[0;34m)\u001b[0m\u001b[0;34m\u001b[0m\u001b[0;34m\u001b[0m\u001b[0m\n\u001b[0m\u001b[1;32m    206\u001b[0m         \u001b[0;32melse\u001b[0m\u001b[0;34m:\u001b[0m\u001b[0;34m\u001b[0m\u001b[0;34m\u001b[0m\u001b[0m\n\u001b[1;32m    207\u001b[0m             raise TypeError(\n",
            "\u001b[0;32m/usr/local/lib/python3.10/dist-packages/pyspark/ml/pipeline.py\u001b[0m in \u001b[0;36m_fit\u001b[0;34m(self, dataset)\u001b[0m\n\u001b[1;32m    132\u001b[0m                     \u001b[0mdataset\u001b[0m \u001b[0;34m=\u001b[0m \u001b[0mstage\u001b[0m\u001b[0;34m.\u001b[0m\u001b[0mtransform\u001b[0m\u001b[0;34m(\u001b[0m\u001b[0mdataset\u001b[0m\u001b[0;34m)\u001b[0m\u001b[0;34m\u001b[0m\u001b[0;34m\u001b[0m\u001b[0m\n\u001b[1;32m    133\u001b[0m                 \u001b[0;32melse\u001b[0m\u001b[0;34m:\u001b[0m  \u001b[0;31m# must be an Estimator\u001b[0m\u001b[0;34m\u001b[0m\u001b[0;34m\u001b[0m\u001b[0m\n\u001b[0;32m--> 134\u001b[0;31m                     \u001b[0mmodel\u001b[0m \u001b[0;34m=\u001b[0m \u001b[0mstage\u001b[0m\u001b[0;34m.\u001b[0m\u001b[0mfit\u001b[0m\u001b[0;34m(\u001b[0m\u001b[0mdataset\u001b[0m\u001b[0;34m)\u001b[0m\u001b[0;34m\u001b[0m\u001b[0;34m\u001b[0m\u001b[0m\n\u001b[0m\u001b[1;32m    135\u001b[0m                     \u001b[0mtransformers\u001b[0m\u001b[0;34m.\u001b[0m\u001b[0mappend\u001b[0m\u001b[0;34m(\u001b[0m\u001b[0mmodel\u001b[0m\u001b[0;34m)\u001b[0m\u001b[0;34m\u001b[0m\u001b[0;34m\u001b[0m\u001b[0m\n\u001b[1;32m    136\u001b[0m                     \u001b[0;32mif\u001b[0m \u001b[0mi\u001b[0m \u001b[0;34m<\u001b[0m \u001b[0mindexOfLastEstimator\u001b[0m\u001b[0;34m:\u001b[0m\u001b[0;34m\u001b[0m\u001b[0;34m\u001b[0m\u001b[0m\n",
            "\u001b[0;32m/usr/local/lib/python3.10/dist-packages/pyspark/ml/base.py\u001b[0m in \u001b[0;36mfit\u001b[0;34m(self, dataset, params)\u001b[0m\n\u001b[1;32m    203\u001b[0m                 \u001b[0;32mreturn\u001b[0m \u001b[0mself\u001b[0m\u001b[0;34m.\u001b[0m\u001b[0mcopy\u001b[0m\u001b[0;34m(\u001b[0m\u001b[0mparams\u001b[0m\u001b[0;34m)\u001b[0m\u001b[0;34m.\u001b[0m\u001b[0m_fit\u001b[0m\u001b[0;34m(\u001b[0m\u001b[0mdataset\u001b[0m\u001b[0;34m)\u001b[0m\u001b[0;34m\u001b[0m\u001b[0;34m\u001b[0m\u001b[0m\n\u001b[1;32m    204\u001b[0m             \u001b[0;32melse\u001b[0m\u001b[0;34m:\u001b[0m\u001b[0;34m\u001b[0m\u001b[0;34m\u001b[0m\u001b[0m\n\u001b[0;32m--> 205\u001b[0;31m                 \u001b[0;32mreturn\u001b[0m \u001b[0mself\u001b[0m\u001b[0;34m.\u001b[0m\u001b[0m_fit\u001b[0m\u001b[0;34m(\u001b[0m\u001b[0mdataset\u001b[0m\u001b[0;34m)\u001b[0m\u001b[0;34m\u001b[0m\u001b[0;34m\u001b[0m\u001b[0m\n\u001b[0m\u001b[1;32m    206\u001b[0m         \u001b[0;32melse\u001b[0m\u001b[0;34m:\u001b[0m\u001b[0;34m\u001b[0m\u001b[0;34m\u001b[0m\u001b[0m\n\u001b[1;32m    207\u001b[0m             raise TypeError(\n",
            "\u001b[0;32m/usr/local/lib/python3.10/dist-packages/pyspark/ml/wrapper.py\u001b[0m in \u001b[0;36m_fit\u001b[0;34m(self, dataset)\u001b[0m\n\u001b[1;32m    379\u001b[0m \u001b[0;34m\u001b[0m\u001b[0m\n\u001b[1;32m    380\u001b[0m     \u001b[0;32mdef\u001b[0m \u001b[0m_fit\u001b[0m\u001b[0;34m(\u001b[0m\u001b[0mself\u001b[0m\u001b[0;34m,\u001b[0m \u001b[0mdataset\u001b[0m\u001b[0;34m:\u001b[0m \u001b[0mDataFrame\u001b[0m\u001b[0;34m)\u001b[0m \u001b[0;34m->\u001b[0m \u001b[0mJM\u001b[0m\u001b[0;34m:\u001b[0m\u001b[0;34m\u001b[0m\u001b[0;34m\u001b[0m\u001b[0m\n\u001b[0;32m--> 381\u001b[0;31m         \u001b[0mjava_model\u001b[0m \u001b[0;34m=\u001b[0m \u001b[0mself\u001b[0m\u001b[0;34m.\u001b[0m\u001b[0m_fit_java\u001b[0m\u001b[0;34m(\u001b[0m\u001b[0mdataset\u001b[0m\u001b[0;34m)\u001b[0m\u001b[0;34m\u001b[0m\u001b[0;34m\u001b[0m\u001b[0m\n\u001b[0m\u001b[1;32m    382\u001b[0m         \u001b[0mmodel\u001b[0m \u001b[0;34m=\u001b[0m \u001b[0mself\u001b[0m\u001b[0;34m.\u001b[0m\u001b[0m_create_model\u001b[0m\u001b[0;34m(\u001b[0m\u001b[0mjava_model\u001b[0m\u001b[0;34m)\u001b[0m\u001b[0;34m\u001b[0m\u001b[0;34m\u001b[0m\u001b[0m\n\u001b[1;32m    383\u001b[0m         \u001b[0;32mreturn\u001b[0m \u001b[0mself\u001b[0m\u001b[0;34m.\u001b[0m\u001b[0m_copyValues\u001b[0m\u001b[0;34m(\u001b[0m\u001b[0mmodel\u001b[0m\u001b[0;34m)\u001b[0m\u001b[0;34m\u001b[0m\u001b[0;34m\u001b[0m\u001b[0m\n",
            "\u001b[0;32m/usr/local/lib/python3.10/dist-packages/pyspark/ml/wrapper.py\u001b[0m in \u001b[0;36m_fit_java\u001b[0;34m(self, dataset)\u001b[0m\n\u001b[1;32m    376\u001b[0m \u001b[0;34m\u001b[0m\u001b[0m\n\u001b[1;32m    377\u001b[0m         \u001b[0mself\u001b[0m\u001b[0;34m.\u001b[0m\u001b[0m_transfer_params_to_java\u001b[0m\u001b[0;34m(\u001b[0m\u001b[0;34m)\u001b[0m\u001b[0;34m\u001b[0m\u001b[0;34m\u001b[0m\u001b[0m\n\u001b[0;32m--> 378\u001b[0;31m         \u001b[0;32mreturn\u001b[0m \u001b[0mself\u001b[0m\u001b[0;34m.\u001b[0m\u001b[0m_java_obj\u001b[0m\u001b[0;34m.\u001b[0m\u001b[0mfit\u001b[0m\u001b[0;34m(\u001b[0m\u001b[0mdataset\u001b[0m\u001b[0;34m.\u001b[0m\u001b[0m_jdf\u001b[0m\u001b[0;34m)\u001b[0m\u001b[0;34m\u001b[0m\u001b[0;34m\u001b[0m\u001b[0m\n\u001b[0m\u001b[1;32m    379\u001b[0m \u001b[0;34m\u001b[0m\u001b[0m\n\u001b[1;32m    380\u001b[0m     \u001b[0;32mdef\u001b[0m \u001b[0m_fit\u001b[0m\u001b[0;34m(\u001b[0m\u001b[0mself\u001b[0m\u001b[0;34m,\u001b[0m \u001b[0mdataset\u001b[0m\u001b[0;34m:\u001b[0m \u001b[0mDataFrame\u001b[0m\u001b[0;34m)\u001b[0m \u001b[0;34m->\u001b[0m \u001b[0mJM\u001b[0m\u001b[0;34m:\u001b[0m\u001b[0;34m\u001b[0m\u001b[0;34m\u001b[0m\u001b[0m\n",
            "\u001b[0;32m/usr/local/lib/python3.10/dist-packages/py4j/java_gateway.py\u001b[0m in \u001b[0;36m__call__\u001b[0;34m(self, *args)\u001b[0m\n\u001b[1;32m   1320\u001b[0m \u001b[0;34m\u001b[0m\u001b[0m\n\u001b[1;32m   1321\u001b[0m         \u001b[0manswer\u001b[0m \u001b[0;34m=\u001b[0m \u001b[0mself\u001b[0m\u001b[0;34m.\u001b[0m\u001b[0mgateway_client\u001b[0m\u001b[0;34m.\u001b[0m\u001b[0msend_command\u001b[0m\u001b[0;34m(\u001b[0m\u001b[0mcommand\u001b[0m\u001b[0;34m)\u001b[0m\u001b[0;34m\u001b[0m\u001b[0;34m\u001b[0m\u001b[0m\n\u001b[0;32m-> 1322\u001b[0;31m         return_value = get_return_value(\n\u001b[0m\u001b[1;32m   1323\u001b[0m             answer, self.gateway_client, self.target_id, self.name)\n\u001b[1;32m   1324\u001b[0m \u001b[0;34m\u001b[0m\u001b[0m\n",
            "\u001b[0;32m/usr/local/lib/python3.10/dist-packages/pyspark/errors/exceptions/captured.py\u001b[0m in \u001b[0;36mdeco\u001b[0;34m(*a, **kw)\u001b[0m\n\u001b[1;32m    177\u001b[0m     \u001b[0;32mdef\u001b[0m \u001b[0mdeco\u001b[0m\u001b[0;34m(\u001b[0m\u001b[0;34m*\u001b[0m\u001b[0ma\u001b[0m\u001b[0;34m:\u001b[0m \u001b[0mAny\u001b[0m\u001b[0;34m,\u001b[0m \u001b[0;34m**\u001b[0m\u001b[0mkw\u001b[0m\u001b[0;34m:\u001b[0m \u001b[0mAny\u001b[0m\u001b[0;34m)\u001b[0m \u001b[0;34m->\u001b[0m \u001b[0mAny\u001b[0m\u001b[0;34m:\u001b[0m\u001b[0;34m\u001b[0m\u001b[0;34m\u001b[0m\u001b[0m\n\u001b[1;32m    178\u001b[0m         \u001b[0;32mtry\u001b[0m\u001b[0;34m:\u001b[0m\u001b[0;34m\u001b[0m\u001b[0;34m\u001b[0m\u001b[0m\n\u001b[0;32m--> 179\u001b[0;31m             \u001b[0;32mreturn\u001b[0m \u001b[0mf\u001b[0m\u001b[0;34m(\u001b[0m\u001b[0;34m*\u001b[0m\u001b[0ma\u001b[0m\u001b[0;34m,\u001b[0m \u001b[0;34m**\u001b[0m\u001b[0mkw\u001b[0m\u001b[0;34m)\u001b[0m\u001b[0;34m\u001b[0m\u001b[0;34m\u001b[0m\u001b[0m\n\u001b[0m\u001b[1;32m    180\u001b[0m         \u001b[0;32mexcept\u001b[0m \u001b[0mPy4JJavaError\u001b[0m \u001b[0;32mas\u001b[0m \u001b[0me\u001b[0m\u001b[0;34m:\u001b[0m\u001b[0;34m\u001b[0m\u001b[0;34m\u001b[0m\u001b[0m\n\u001b[1;32m    181\u001b[0m             \u001b[0mconverted\u001b[0m \u001b[0;34m=\u001b[0m \u001b[0mconvert_exception\u001b[0m\u001b[0;34m(\u001b[0m\u001b[0me\u001b[0m\u001b[0;34m.\u001b[0m\u001b[0mjava_exception\u001b[0m\u001b[0;34m)\u001b[0m\u001b[0;34m\u001b[0m\u001b[0;34m\u001b[0m\u001b[0m\n",
            "\u001b[0;32m/usr/local/lib/python3.10/dist-packages/py4j/protocol.py\u001b[0m in \u001b[0;36mget_return_value\u001b[0;34m(answer, gateway_client, target_id, name)\u001b[0m\n\u001b[1;32m    324\u001b[0m             \u001b[0mvalue\u001b[0m \u001b[0;34m=\u001b[0m \u001b[0mOUTPUT_CONVERTER\u001b[0m\u001b[0;34m[\u001b[0m\u001b[0mtype\u001b[0m\u001b[0;34m]\u001b[0m\u001b[0;34m(\u001b[0m\u001b[0manswer\u001b[0m\u001b[0;34m[\u001b[0m\u001b[0;36m2\u001b[0m\u001b[0;34m:\u001b[0m\u001b[0;34m]\u001b[0m\u001b[0;34m,\u001b[0m \u001b[0mgateway_client\u001b[0m\u001b[0;34m)\u001b[0m\u001b[0;34m\u001b[0m\u001b[0;34m\u001b[0m\u001b[0m\n\u001b[1;32m    325\u001b[0m             \u001b[0;32mif\u001b[0m \u001b[0manswer\u001b[0m\u001b[0;34m[\u001b[0m\u001b[0;36m1\u001b[0m\u001b[0;34m]\u001b[0m \u001b[0;34m==\u001b[0m \u001b[0mREFERENCE_TYPE\u001b[0m\u001b[0;34m:\u001b[0m\u001b[0;34m\u001b[0m\u001b[0;34m\u001b[0m\u001b[0m\n\u001b[0;32m--> 326\u001b[0;31m                 raise Py4JJavaError(\n\u001b[0m\u001b[1;32m    327\u001b[0m                     \u001b[0;34m\"An error occurred while calling {0}{1}{2}.\\n\"\u001b[0m\u001b[0;34m.\u001b[0m\u001b[0;34m\u001b[0m\u001b[0;34m\u001b[0m\u001b[0m\n\u001b[1;32m    328\u001b[0m                     format(target_id, \".\", name), value)\n",
            "\u001b[0;31mPy4JJavaError\u001b[0m: An error occurred while calling o361.fit.\n: org.apache.spark.SparkException: Input column label does not exist.\n\tat org.apache.spark.ml.feature.StringIndexerBase.$anonfun$validateAndTransformSchema$2(StringIndexer.scala:128)\n\tat scala.collection.TraversableLike.$anonfun$flatMap$1(TraversableLike.scala:293)\n\tat scala.collection.IndexedSeqOptimized.foreach(IndexedSeqOptimized.scala:36)\n\tat scala.collection.IndexedSeqOptimized.foreach$(IndexedSeqOptimized.scala:33)\n\tat scala.collection.mutable.ArrayOps$ofRef.foreach(ArrayOps.scala:198)\n\tat scala.collection.TraversableLike.flatMap(TraversableLike.scala:293)\n\tat scala.collection.TraversableLike.flatMap$(TraversableLike.scala:290)\n\tat scala.collection.mutable.ArrayOps$ofRef.flatMap(ArrayOps.scala:198)\n\tat org.apache.spark.ml.feature.StringIndexerBase.validateAndTransformSchema(StringIndexer.scala:123)\n\tat org.apache.spark.ml.feature.StringIndexerBase.validateAndTransformSchema$(StringIndexer.scala:115)\n\tat org.apache.spark.ml.feature.StringIndexer.validateAndTransformSchema(StringIndexer.scala:145)\n\tat org.apache.spark.ml.feature.StringIndexer.transformSchema(StringIndexer.scala:252)\n\tat org.apache.spark.ml.PipelineStage.transformSchema(Pipeline.scala:71)\n\tat org.apache.spark.ml.feature.StringIndexer.fit(StringIndexer.scala:237)\n\tat org.apache.spark.ml.feature.StringIndexer.fit(StringIndexer.scala:145)\n\tat java.base/jdk.internal.reflect.NativeMethodAccessorImpl.invoke0(Native Method)\n\tat java.base/jdk.internal.reflect.NativeMethodAccessorImpl.invoke(NativeMethodAccessorImpl.java:62)\n\tat java.base/jdk.internal.reflect.DelegatingMethodAccessorImpl.invoke(DelegatingMethodAccessorImpl.java:43)\n\tat java.base/java.lang.reflect.Method.invoke(Method.java:566)\n\tat py4j.reflection.MethodInvoker.invoke(MethodInvoker.java:244)\n\tat py4j.reflection.ReflectionEngine.invoke(ReflectionEngine.java:374)\n\tat py4j.Gateway.invoke(Gateway.java:282)\n\tat py4j.commands.AbstractCommand.invokeMethod(AbstractCommand.java:132)\n\tat py4j.commands.CallCommand.execute(CallCommand.java:79)\n\tat py4j.ClientServerConnection.waitForCommands(ClientServerConnection.java:182)\n\tat py4j.ClientServerConnection.run(ClientServerConnection.java:106)\n\tat java.base/java.lang.Thread.run(Thread.java:829)\n"
          ]
        }
      ]
    }
  ]
}